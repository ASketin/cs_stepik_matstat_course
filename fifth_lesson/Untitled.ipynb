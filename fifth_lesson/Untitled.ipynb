{
 "cells": [
  {
   "cell_type": "markdown",
   "metadata": {},
   "source": [
    "### Критерий Андерсона-Дарлинга"
   ]
  },
  {
   "cell_type": "code",
   "execution_count": 53,
   "metadata": {},
   "outputs": [
    {
     "name": "stdout",
     "output_type": "stream",
     "text": [
      "Значение критерия:  0.235\n"
     ]
    }
   ],
   "source": [
    "import numpy as np\n",
    "from scipy.stats import norm\n",
    "\n",
    "def criteria_stat(data_input: list) -> float:\n",
    "    mean_x = np.mean(data_input)\n",
    "    sigma = np.std(data_input, ddof=1)\n",
    "    result_sum = sum([((2 * i - 1)  / len(data_input))\n",
    "                      * ((np.log(norm.cdf(data_input[i-1], loc=mean_x, scale=sigma)) \n",
    "                          + np.log(1 - norm.cdf(data_input[len(data_input)-i], loc=mean_x, scale=sigma)))) \n",
    "                   for i in range(1, len(data_input) + 1)])\n",
    "    \n",
    "    return -len(input_data) - result_sum\n",
    "\n",
    "input_data = [3.4, 7.0, 3.9, 6.1, 0.9, 4.6, 6.4, 3.2, 1.8, 4.8, 3.8, 5.6, 1.3, 3.3, 3.7, 2.9, 5.2, 3.7, 5.0, 3.9]\n",
    "sorted_data = sorted(input_data)\n",
    "\n",
    "print('Значение критерия: ', round(criteria_stat(sorted_data), 3))"
   ]
  },
  {
   "cell_type": "markdown",
   "metadata": {},
   "source": [
    "Кокаин чрезвычайно вреден для сердца, он может вызвать инфаркт миокарда даже у молодых людей без атеросклероза. Кокаин сужает коронарные сосуды, что приводит к уменьшению притока крови к миокарду кроме того, он ухудшает насосную функцию сердца. Нифедипин (препарат из группы антагонистов кальция) обладает способностью расширять сосуды, его применяют при ишемической болезни сердца. Ш. Хейл и соавт. (S. L. Hale, К. J. Alker, S. H. Rezkalla et al. Nifedipine protects the heart from the acute deleterious effects of cocaine if administered before but not after cocaine. Circulation, 83:1437—1443, 1991) предположили, что нифедипин можно использовать и при поражении сердца,\n",
    "вызванном кокаином. Собакам вводили кокаин, а затем нифедипин либо физиологический раствор. Показателем насосной функции сердца служило среднее артериальное давление. Были получены следующие данные.\n",
    "Среднее артериальное давление после приема кокаина, мм рт. ст.\n",
    "\n",
    "Влияет ли нифедипин на среднее артериальное давление после приема кокаина?"
   ]
  },
  {
   "cell_type": "code",
   "execution_count": 77,
   "metadata": {},
   "outputs": [
    {
     "name": "stdout",
     "output_type": "stream",
     "text": [
      "Значение статистики:  1.342\n",
      "Квантиль при уровне значимости alpha=0.02:  1.52\n",
      "Принимаем нулевую гипотезу\n"
     ]
    }
   ],
   "source": [
    "placebo = [156, 171, 133, 102, 129, 150, 120, 110, 112, 130]\n",
    "sorted_placebo = sorted(placebo)\n",
    "\n",
    "nifedipine = [73, 81, 103, 88, 131, 106, 107, 111, 122, 108]\n",
    "sorted_nifedipine = sorted(nifedipine)\n",
    "\n",
    "def empirical_cdf(point: float, sample: list) -> float:\n",
    "    return len(list(filter(lambda x: x < point, sample))) / len(sample)\n",
    "\n",
    "def return_sup(X_n: list, Y_m: list) -> float:\n",
    "    start_boundary = min(min(X_n), min(Y_m))\n",
    "    finish_boundary = max(max(X_n), max(Y_m))\n",
    "    \n",
    "    difference = [abs(empirical_cdf(c, Y_m) - empirical_cdf(c, X_n)) \n",
    "                  for c in range(start_boundary, finish_boundary + 1, 1)]\n",
    "\n",
    "    return (len(X_n) * len(Y_m) / (len(X_n) + len(Y_m))) ** (1 / 2) * max(difference)\n",
    "\n",
    "print('Значение статистики: ', round(return_sup(X_n=sorted_placebo, Y_m=sorted_nifedipine), 3))\n",
    "print('Квантиль при уровне значимости alpha=0.02: ', 1.52)\n",
    "print('Принимаем нулевую гипотезу')"
   ]
  },
  {
   "cell_type": "code",
   "execution_count": null,
   "metadata": {},
   "outputs": [],
   "source": []
  }
 ],
 "metadata": {
  "kernelspec": {
   "display_name": "Python 3",
   "language": "python",
   "name": "python3"
  },
  "language_info": {
   "codemirror_mode": {
    "name": "ipython",
    "version": 3
   },
   "file_extension": ".py",
   "mimetype": "text/x-python",
   "name": "python",
   "nbconvert_exporter": "python",
   "pygments_lexer": "ipython3",
   "version": "3.7.4"
  }
 },
 "nbformat": 4,
 "nbformat_minor": 2
}
