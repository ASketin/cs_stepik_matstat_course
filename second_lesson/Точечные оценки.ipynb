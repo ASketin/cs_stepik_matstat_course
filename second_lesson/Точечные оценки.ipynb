{
 "cells": [
  {
   "cell_type": "markdown",
   "metadata": {},
   "source": [
    "<h4>Метод подстановки</h4>"
   ]
  },
  {
   "cell_type": "markdown",
   "metadata": {},
   "source": [
    "<p> В качестве точечной оценки неизвестного параметра берем выборочный аналог \n",
    "<br>\n",
    "<p> Пример: \n",
    "<li> Предложенная выборка получена из нормально распределенной генеральной совокупности $N(a,\\sigma)$\n",
    "<li> С помощь метода подстановки найдите точечную оценку параметра a."
   ]
  },
  {
   "cell_type": "code",
   "execution_count": 1,
   "metadata": {},
   "outputs": [
    {
     "name": "stdout",
     "output_type": "stream",
     "text": [
      "Точеченая оценка параметра а:  29.498\n"
     ]
    }
   ],
   "source": [
    "import numpy as np\n",
    "\n",
    "def return_stat(sample: list, stat: str) -> float:\n",
    "    \n",
    "    stat_dict = {\n",
    "        'mean': np.mean,\n",
    "        'std': np.std,\n",
    "        'median': np.median\n",
    "    }\n",
    "    \n",
    "    return stat_dict[stat](sample)\n",
    "\n",
    "sample = [28.95, 29.66, 31.03, 31.8, 29.75, 29.05, 27.52, 29.6, 29.76, 27.43,\n",
    "          28.15, 28.0, 29.85, 27.95, 32.54, 28.57, 25.39, 30.91, 33.13, 30.93]\n",
    "\n",
    "print('Точеченая оценка параметра а: ', round(return_stat(sample, 'mean'), 3))"
   ]
  },
  {
   "cell_type": "markdown",
   "metadata": {},
   "source": [
    "<h4> Из продукции станка извлечена выборка изделий и результаты измерений одного из размеров изделий (в мм) </h4>\n",
    "<p> Предполагая, что выборка значений контролируемого размера изделий подчиняется нормальному закону распределения,\n",
    "найдите оценку дисперсии с помощью метода моментов."
   ]
  },
  {
   "cell_type": "code",
   "execution_count": 2,
   "metadata": {},
   "outputs": [
    {
     "name": "stdout",
     "output_type": "stream",
     "text": [
      "Точечная оценка дисперсии:  3.414\n"
     ]
    }
   ],
   "source": [
    "sample = [17.4, 19.9, 19.9, 19.0, 20.7, 18.2, 18.6, 20.3, 21.7, 20.8, 16.7, 20.3,\n",
    "          22.5, 18.3, 21.1, 16.3, 22.0, 19.5, 18.1, 21.1, 20.0, 21.6, 21.5, 21.1,\n",
    "          23.3, 23.0, 17.8, 19.5, 21.6, 22.9]\n",
    "\n",
    "print('Точечная оценка дисперсии: ', round(return_stat(sample, 'std') ** 2, 3))"
   ]
  },
  {
   "cell_type": "markdown",
   "metadata": {},
   "source": [
    "<h4>Дать оценку неизвестного параметра МП</h4>"
   ]
  },
  {
   "cell_type": "markdown",
   "metadata": {},
   "source": [
    "По предложенной выборке с помощью метода максимального правдоподобия найдите точечную оценку параметра $\\theta$ равномерно на $[0, \\theta]$ распределенной случайной величины"
   ]
  },
  {
   "cell_type": "code",
   "execution_count": 3,
   "metadata": {},
   "outputs": [
    {
     "name": "stdout",
     "output_type": "stream",
     "text": [
      "n-я порядкова статистика есть оценка для theta:  15.4\n"
     ]
    }
   ],
   "source": [
    "def evaluate_uniform_theta(sample: list) -> float:\n",
    "    variation_row = sorted(sample)\n",
    "    return variation_row[-1]\n",
    "\n",
    "sample = [11.25, 1.67, 5.72, 1.9, 6.07, 7.71, 4.48, 14.95, 2.32,\n",
    "          3.52, 2.35, 4.79, 0.74, 8.66, 13.43, 8.41, 1.24, 15.4,\n",
    "          6.95, 5.94\n",
    "         ]\n",
    "\n",
    "print('n-я порядкова статистика есть оценка для theta: ', evaluate_uniform_theta(sample))"
   ]
  },
  {
   "cell_type": "markdown",
   "metadata": {},
   "source": [
    "<h4>Метод правдоподобия</h4>"
   ]
  },
  {
   "cell_type": "markdown",
   "metadata": {},
   "source": [
    "Рассмотрим следующий эксперимент, имитирующий поведение пользователя  при поиске информации в поисковой системе:\n",
    "<br>\n",
    "<br>\n",
    "<li> Пользователь последовательно просматривает документы до тех пор, пока не найдет нужную информацию или не устанет.\n",
    "<li> Вероятность того, что пользователь найдет информацию в документе с номером i равна p, вероятность того, что он не найдет информацию в документе i равна (1-p). Вероятность p не зависит от номера документа. \n",
    "<li> Вероятность того, что пользователь устанет после просмотра i-го документа равна g, соответственно продолжит поиски с вероятностью (1−g). Данная вероятность не зависит от номера просматриваемого документа. \n",
    "<li >Пользователь всегда просматривает как минимум один документ. При этом нам известно, нашел ли пользователь информацию или нет (F - нашел, N - не нашел)\n",
    "\n",
    "<h6>Наблюдение:</h6> \n",
    "<p>число просмотренных документов и факт \"найдена информация или нет\"\n",
    "\n",
    "<h6>Например:</h6>\n",
    "<li> наблюдение '2 F' означает, что пользователь просмотрел первый документ, не нашел в нем информацию, не устал,  просмотрел второй документ и нашел в нем информацию.\n",
    "<li> наблюдение  '1 N' означает, что пользователь просмотрел первый документ, не нашел в нем информацию и устал, прекратил просматривать документы."
   ]
  },
  {
   "cell_type": "code",
   "execution_count": 4,
   "metadata": {},
   "outputs": [],
   "source": [
    "import pandas as pd\n",
    "\n",
    "def probability_mass_function(sample_element: str) -> tuple:\n",
    "    \n",
    "    n, status = sample_element.split()\n",
    "    power_dict = {\n",
    "        '1 - p': int(n) - 1,\n",
    "        'p': 0,\n",
    "        '1 - g': int(n) - 1,\n",
    "        'g': 0\n",
    "    }\n",
    "    \n",
    "    if status == 'F':\n",
    "        power_dict['p'] += 1\n",
    "    \n",
    "    if status == 'N':\n",
    "        power_dict['1 - p'] += 1\n",
    "        power_dict['g'] += 1\n",
    "    \n",
    "    return power_dict"
   ]
  },
  {
   "cell_type": "code",
   "execution_count": 5,
   "metadata": {},
   "outputs": [
    {
     "name": "stdout",
     "output_type": "stream",
     "text": [
      "Степень (1-p):  97\n",
      "Степень p:  78\n",
      "Степень (1-g):  75\n",
      "Степень g:  22\n"
     ]
    }
   ],
   "source": [
    "input_sample = pd.read_csv('sample_2_4.txt', header=None, names=['element'])\n",
    "\n",
    "input_sample['power_dict'] = input_sample.element.apply(lambda x: probability_mass_function(x))\n",
    "\n",
    "input_sample['1 - p'] = input_sample.power_dict.apply(lambda x: x['1 - p'])\n",
    "input_sample['p'] = input_sample.power_dict.apply(lambda x: x['p'])\n",
    "input_sample['1 - g'] = input_sample.power_dict.apply(lambda x: x['1 - g'])\n",
    "input_sample['g'] = input_sample.power_dict.apply(lambda x: x['g'])\n",
    "\n",
    "minus_p, p, minus_g, g = input_sample.iloc[:, 1:].sum().values\n",
    "\n",
    "print('Степень (1-p): ', minus_p)\n",
    "print('Степень p: ',p)\n",
    "print('Степень (1-g): ',minus_g)\n",
    "print('Степень g: ',g)"
   ]
  },
  {
   "cell_type": "markdown",
   "metadata": {},
   "source": [
    "<h6>Функция правдоподобия данной выборки:</h6>\n",
    "<br>\n",
    "<li>$L(X_n) = (1-p)^{97}p^{78}(1-g)^{75}g^{22}$\n",
    "\n",
    "<h6>Найдем частные производные по p и g и приравняем к нулю:</h6>\n",
    "<br>\n",
    "<li>$\\large\\frac{\\partial L(X_n)}{\\partial p} = 0$\n",
    "<br>\n",
    "<br>\n",
    "<li>$\\large\\frac{\\partial L(X_n)}{\\partial g} = 0$\n",
    "\n",
    "<p> Точечная оценка по ММП для p = 0.446, g = 0.227"
   ]
  },
  {
   "cell_type": "markdown",
   "metadata": {},
   "source": [
    "### Асимтотическая нормальность"
   ]
  },
  {
   "cell_type": "markdown",
   "metadata": {},
   "source": [
    "С помощью моделирования проверьте, является ли точечная оценка параметра $\\lambda$ экспоненциально распределенной случайной величины, полученная методом максимального правдоподобия, асимптотически нормальной.\n",
    "\n",
    "Для этого:\n",
    "<li> найдите точечную оценку параметра $\\lambda$ экспоненциально распределенной случайной величины с помощью методом максимального правдоподобия\n",
    "<li> проведите моделирование\n",
    "    <ul>\n",
    "        <li> задайте параметр $\\lambda$ экспоненциально распределенной случайной величины\n",
    "        <li> смоделируйте 500 выборок объемом 1000 из генеральной совокупности с выбранным значением параметра  $\\lambda$\n",
    "        <li> для каждой (из 500) выборки найдите значение точечной оценки параметра \n",
    "            и постройте гистограмму распределения точечных оценок\n",
    "        <li> Увеличьте число моделируемых выборок до 1000 или 5000. Проанализируйте, что изменилось\n",
    "    </ul>"
   ]
  },
  {
   "cell_type": "code",
   "execution_count": 6,
   "metadata": {},
   "outputs": [
    {
     "name": "stdout",
     "output_type": "stream",
     "text": [
      "Populating the interactive namespace from numpy and matplotlib\n"
     ]
    },
    {
     "name": "stderr",
     "output_type": "stream",
     "text": [
      "C:\\ProgramData\\Anaconda3\\lib\\site-packages\\IPython\\core\\magics\\pylab.py:160: UserWarning: pylab import has clobbered these variables: ['sample']\n",
      "`%matplotlib` prevents importing * from pylab and numpy\n",
      "  \"\\n`%matplotlib` prevents importing * from pylab and numpy\"\n"
     ]
    }
   ],
   "source": [
    "from scipy.stats import expon\n",
    "\n",
    "%pylab inline"
   ]
  },
  {
   "cell_type": "code",
   "execution_count": 7,
   "metadata": {},
   "outputs": [
    {
     "data": {
      "image/png": "[encoded data removed]",
      "text/plain": [
       "<Figure size 1152x432 with 2 Axes>"
      ]
     },
     "metadata": {
      "needs_background": "light"
     },
     "output_type": "display_data"
    }
   ],
   "source": [
    "def evaluate_lambda(sample: list) -> float:\n",
    "    return len(sample) * 1.0 / sum(sample)\n",
    "\n",
    "samples = [expon.rvs(scale=0.5, size=500) for index in range(1, 501)]\n",
    "lambda_values = [evaluate_lambda(sample) for sample in samples]\n",
    "\n",
    "samples_5000 = [expon.rvs(scale=0.5, size=5000) for index in range(1, 5001)]\n",
    "lambda_values_5000 = [evaluate_lambda(sample) for sample in samples_5000]\n",
    "\n",
    "fig, ax = plt.subplots(1, 2, figsize=(16, 6))\n",
    "\n",
    "ax[0].hist(lambda_values, edgecolor='black', bins=21)\n",
    "ax[0].set_title('Гистограмма оценок параметра lambda ММП (500 выборок)')\n",
    "\n",
    "ax[1].hist(lambda_values, edgecolor='black', bins=24)\n",
    "ax[1].set_title('Гистограмма оценок параметра lambda ММП (5000 выборок)')\n",
    "plt.show()"
   ]
  }
 ],
 "metadata": {
  "kernelspec": {
   "display_name": "Python 3",
   "language": "python",
   "name": "python3"
  },
  "language_info": {
   "codemirror_mode": {
    "name": "ipython",
    "version": 3
   },
   "file_extension": ".py",
   "mimetype": "text/x-python",
   "name": "python",
   "nbconvert_exporter": "python",
   "pygments_lexer": "ipython3",
   "version": "3.7.4"
  }
 },
 "nbformat": 4,
 "nbformat_minor": 2
}
