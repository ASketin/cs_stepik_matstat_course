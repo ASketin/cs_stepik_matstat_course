{
 "cells": [
  {
   "cell_type": "markdown",
   "metadata": {},
   "source": [
    "### Необходимый объем выборки"
   ]
  },
  {
   "cell_type": "markdown",
   "metadata": {},
   "source": [
    "Пусть $\\xi\\sim N(a,\\sigma)$, a неизвестно, $\\sigma=2$\n",
    "\n",
    "Проверяется гипотеза \n",
    "<li> $H_0$: $a = 5$\n",
    "<li> $H_1$: $a = 5.5$\n",
    "\n",
    "Какого объема следует взять выборку, чтобы вероятность ошибки первого рода не превосходила  0.05, а вероятность ошибки второго рода не превосходила 0.1?  Найдите наименьшее значение\n",
    "\n",
    "$\\large n\\geq \\dfrac{\\sigma^{2} \\left( U_{1-\\alpha _{0}} - U_{\\beta_{0}}\\right) ^{2} }{\\left( a_{1}-a_{0}\\right) ^{2}}$"
   ]
  },
  {
   "cell_type": "code",
   "execution_count": 1,
   "metadata": {},
   "outputs": [
    {
     "name": "stdout",
     "output_type": "stream",
     "text": [
      "Необходимый объем выборки при задданых ошибках первого и второго рода:  138\n"
     ]
    }
   ],
   "source": [
    "from scipy.stats import norm\n",
    "from math import floor, ceil\n",
    "\n",
    "def return_sample_size(alpha_0: float, beta_0: float, a_0: float, a_1: float, sigma: float) -> int:\n",
    "    alpha_quantile = norm.ppf(1 - alpha_0)\n",
    "    beta_quantile = norm.ppf(beta_0)\n",
    "    \n",
    "    return ceil((sigma * (alpha_quantile - beta_quantile) / (a_1 - a_0)) ** 2)\n",
    "\n",
    "print('Необходимый объем выборки при задданых ошибках первого и второго рода: ', \n",
    "      return_sample_size(alpha_0=0.05, beta_0=0.1, a_0=5, a_1=5.5, sigma=2)\n",
    "     )"
   ]
  },
  {
   "cell_type": "markdown",
   "metadata": {},
   "source": [
    "### Проверкой простой статистической гипотезы"
   ]
  },
  {
   "cell_type": "markdown",
   "metadata": {},
   "source": [
    "Десять разных термометров сопротивления откалибровали по стандартному термометру. При показании стандартного термометра 1000мВ, испытуемые термометры показали:\n",
    "\n",
    "<p>\n",
    "<li> $X_n = (986, 1005, 991, 994, 983, 1002, 996, 998,1002, 983)$</li>\n",
    "<p >Можно ли считать эти отклонения допустимыми или на характеристики термометров повлиял некоторый фактор (при изготовлении или транспортировке)? Показания термометров считать распределенными нормально. Уровень значимости принять 0.05\n",
    "<p>\n",
    "<li> Найдите p-значение и примите статистическое решение.</li>"
   ]
  },
  {
   "cell_type": "code",
   "execution_count": 2,
   "metadata": {},
   "outputs": [],
   "source": [
    "import numpy as np\n",
    "from scipy.stats import t\n",
    "\n",
    "def return_stat_value(X_n: list, a: float) -> float:\n",
    "    s = (1 / (len(X_n) - 1) * sum([(x_i - np.mean(X_n)) ** 2 for x_i in X_n])) ** (1/2)\n",
    "    \n",
    "    return (np.mean(X_n) - a) / (s / (len(X_n) ** (1/2)))\n",
    "\n",
    "input_data = [986, 1005, 991, 994, 983, 1002, 996, 998, 1002, 983]\n",
    "Z_B = return_stat_value(X_n=input_data, a=1000)\n",
    "t_alpha = t.ppf(0.05/2, df = 9)\n",
    "t_minus_alpha = t.ppf((1 - 0.05)/2, df = 9)\n",
    "p_value = round(2 * min([t.cdf(Z_B, df=9), 1 - t.cdf(Z_B, df=9)]), 3)"
   ]
  },
  {
   "cell_type": "markdown",
   "metadata": {},
   "source": [
    "<p> Критическая область:\n",
    "    $\\large V_k: (-\\infty, -2.262) \\cup (-0.064, +\\infty)$\n",
    "</p>\n",
    "\n",
    "<p> p_value:  $\\large p = 0.043$ </p>\n",
    "<p>Выборочное значение статистики $Z_B = -2.355$</p>\n",
    "<p>Выборочное значение статистики принадлежит критической области, отвергаем нулевую гипотезу</p>"
   ]
  },
  {
   "cell_type": "markdown",
   "metadata": {},
   "source": [
    "### Проверка гипотезы о значении дисперсии $N(a, \\sigma)$"
   ]
  },
  {
   "cell_type": "markdown",
   "metadata": {},
   "source": [
    "При отлаженном процессе наполнения тюбиков с зубной пастой в одну упаковку в среднем помещается 100 мл зубной пасты, при этом дисперсия объема зубной пасты в упаковке не должна превышать 9 (мл в квадрате). Отдел контроля качества отобрал 25 упаковок и рассчитал несмещённую оценку дисперсии $\\large s^2 =\\frac{1}{n-1}\\sum_{i=1}^n (x_i -\\bar x)^2$, она составила 13.5.\n",
    "\n",
    "Есть ли основания считать, что дисперсия объема зубной пасты превышает допустимый предел? Используйте уровень значимости 0.05. Предполагается, что объем зубной пасты в упаковке подчиняется нормальному закону распределения.\n",
    "Найдите p-значение, примите статистическое решение\n",
    "\n",
    "<p>Гипотезы: </p>\n",
    "<li> $H_0: \\sigma^{2} = 9$</li>\n",
    "<li> $H_1: \\sigma^{2} > 9$</li>\n"
   ]
  },
  {
   "cell_type": "code",
   "execution_count": 3,
   "metadata": {},
   "outputs": [
    {
     "name": "stdout",
     "output_type": "stream",
     "text": [
      "Критическая область:  (36.41502850180731, '+inf')\n",
      "Выборочное значение статистики:  36.0\n",
      "p_value:  0.055\n",
      "Нет оснований не принимать нулевую гипотезу\n"
     ]
    }
   ],
   "source": [
    "from scipy.stats import chi2\n",
    "\n",
    "chi_quantile = chi2.ppf(1 - 0.05, df=24) \n",
    "print('Критическая область: ', (chi_quantile, '+inf'))\n",
    "\n",
    "\n",
    "Z_B = 24 * (13.5) / 9\n",
    "print('Выборочное значение статистики: ', Z_B)\n",
    "\n",
    "p_value = 1 - chi2.cdf(Z_B, df=24)\n",
    "print('p_value: ', round(p_value, 3))\n",
    "\n",
    "print('Нет оснований не принимать нулевую гипотезу')"
   ]
  },
  {
   "cell_type": "markdown",
   "metadata": {},
   "source": [
    "### Однофакторный дисперсионный анализ"
   ]
  },
  {
   "cell_type": "markdown",
   "metadata": {},
   "source": [
    "Время химической реакции при различном содержании катализатора распределилось следующим образом\n",
    "\n",
    "<p>5%</p>\n",
    "<li>5.9, 6.0, 7.0, 6.5, 5.5, 7.0, 8.1, 7.5, 6.2, 6.4, 7.1, 6.9</li>\n",
    "<p>10%</p>\n",
    "<li>4.0, 5.1, 6.2, 5.3, 4.5, 4.4, 5.3, 5.4,5.6,5.2</li>\n",
    "<p>15%</p>\n",
    "<li>8.2, 6.8, 8.0, 7.5, 7.2, 7.9, 8.1, 8.5, 7.8, 8.1</li>\n",
    "\n",
    "Выборки получены из нормально распределенных генеральных совокупностей с равными дисперсиями. Проверить гипотезу о равенстве средних. Уровень значимости принять равным 0.1.\n",
    "\n",
    "Найдите значение статистики, которая является точечной оценкой дисперсии независимо от того, верна нулевая гипотеза или нет"
   ]
  },
  {
   "cell_type": "code",
   "execution_count": 4,
   "metadata": {},
   "outputs": [
    {
     "name": "stdout",
     "output_type": "stream",
     "text": [
      "Точечная оценка дисперсии независимо от того, верна нулевая гипотеза или нет:  0.412\n",
      "Выборочное значение статистики:  44.991\n",
      "Критическая область (2.495, +inf)\n",
      "Отвергаем нулевую гипотезу\n"
     ]
    }
   ],
   "source": [
    "import numpy as np\n",
    "from scipy.stats import f\n",
    "\n",
    "def calculate_var_stat(X_general: list) -> float:\n",
    "    total_sum = 0\n",
    "    for X_j in X_general:\n",
    "        total_sum += sum([(X_ij - np.mean(X_j)) ** 2 for X_ij in X_j])\n",
    "    \n",
    "    return total_sum / (len(np.concatenate(X_general)) - len(X_general))\n",
    "\n",
    "def calculate_alternative_var(X_general: list) -> float:\n",
    "    general_mean = np.mean(np.concatenate(X_general))\n",
    "    result = [len(X_j) * (np.mean(X_j) - general_mean) ** 2 for X_j in X_general]\n",
    "    return sum(result) / (len(X_general) - 1)\n",
    "\n",
    "X_1 = [5.9, 6.0, 7.0, 6.5, 5.5, 7.0, 8.1, 7.5, 6.2, 6.4, 7.1, 6.9]\n",
    "X_2 = [4.0, 5.1, 6.2, 5.3, 4.5, 4.4, 5.3, 5.4, 5.6, 5.2]\n",
    "X_3 = [8.2, 6.8, 8.0, 7.5, 7.2, 7.9, 8.1, 8.5, 7.8, 8.1]\n",
    "\n",
    "X_general = [X_1, X_2, X_3]\n",
    "k = len(X_general)\n",
    "N = len(np.concatenate(X_general))\n",
    "alpha = 0.1\n",
    "quantile = f.ppf(1-alpha, k-1, N-k)\n",
    "\n",
    "denominator = calculate_var_stat(X_general)\n",
    "print('Точечная оценка дисперсии независимо от того, верна нулевая гипотеза или нет: ', \n",
    "      round(denominator, 3))\n",
    "\n",
    "numerator = calculate_alternative_var(X_general)\n",
    "F_B = numerator / denominator\n",
    "\n",
    "print('Выборочное значение статистики: ', round(F_B, 3))\n",
    "print('Критическая область ({}, +inf)'.format(round(quantile, 3)))\n",
    "print('Отвергаем нулевую гипотезу')"
   ]
  },
  {
   "cell_type": "markdown",
   "metadata": {},
   "source": [
    "### Метод линейных контрастов"
   ]
  },
  {
   "cell_type": "markdown",
   "metadata": {},
   "source": [
    "Найдите точечную оценку линейного контраста для проверки частной нулевой гипотезы о равенстве среднего времени химической реакции при содержании катализатора  5% и 10% \n",
    "<p>$H_0:a_{5\\%}=a_{10\\%}$</p>"
   ]
  },
  {
   "cell_type": "code",
   "execution_count": 5,
   "metadata": {},
   "outputs": [
    {
     "name": "stdout",
     "output_type": "stream",
     "text": [
      "Точечная оценка линейного контраста:  1.575\n",
      "Доверительный интервал:  (0.961, 2.189)\n",
      "Отвергаем нулевую гипотезу\n"
     ]
    }
   ],
   "source": [
    "Lk_hat = np.mean(X_1) - np.mean(X_2)\n",
    "Q1 = calculate_var_stat(X_general) * (N - k)\n",
    "Sk_hat = Q1 / (len(X_1) * (N - k)) + Q1 / (len(X_2) * (N - k))\n",
    "\n",
    "lowerbound = Lk_hat -  (Sk_hat * (k - 1) * quantile) ** (1 / 2)\n",
    "upperbound = Lk_hat + (Sk_hat * (k - 1) * quantile) ** (1 / 2)\n",
    "\n",
    "print('Точечная оценка линейного контраста: ', round(Lk_hat, 3))\n",
    "print('Доверительный интервал: ',\n",
    "    (round(lowerbound, 3),\n",
    "     round(upperbound, 3)))\n",
    "print('Отвергаем нулевую гипотезу')"
   ]
  },
  {
   "cell_type": "markdown",
   "metadata": {},
   "source": [
    "Проверьте, правда ли, что болевой барьер у блондинов и брюнетов разный.\n",
    "Найдите средний ранг болевого барьера для  светлых брюнетов."
   ]
  },
  {
   "cell_type": "code",
   "execution_count": 6,
   "metadata": {},
   "outputs": [
    {
     "name": "stdout",
     "output_type": "stream",
     "text": [
      "средний ранг болевого барьера для светлых брюнетов:  7.75\n",
      "Выборочное значение статистики H:  10.145\n",
      "Критическая область (7.815, +inf)\n",
      "Отвергаем нулевую гипотезу\n"
     ]
    }
   ],
   "source": [
    "from scipy.stats import chi2\n",
    "\n",
    "def get_ranks(sorted_sample: list, current_sample: list) -> list:\n",
    "    return [sorted_sample.index(elmnt) + 1 for elmnt in current_sample]\n",
    "\n",
    "def get_h_stat(samples: list) -> float:\n",
    "    sorted_sample = sorted(np.concatenate(samples))\n",
    "    N = len(sorted_sample)\n",
    "    inner_sum = sum([len(sample) * np.mean(get_ranks(sorted_sample, sample)) ** 2 for sample in samples])\n",
    "    return 12 * inner_sum / (N * (N + 1)) - 3 * (N + 1)\n",
    "\n",
    "light_blonde =  [62, 60, 71, 55, 48]\n",
    "dark_blonde = [63, 57, 52, 41, 43]\n",
    "light_brunette = [42, 50, 44, 37]\n",
    "dark_brunette = [32, 39, 51, 30, 35]\n",
    "\n",
    "samples = [light_blonde, dark_blonde, light_brunette, dark_brunette]\n",
    "sorted_sample = sorted(np.concatenate(samples))\n",
    "alpha = 0.05\n",
    "\n",
    "print('средний ранг болевого барьера для светлых брюнетов: ',\n",
    "      np.mean(get_ranks(sorted_sample, light_brunette)))\n",
    "print('Выборочное значение статистики H: ', round(get_h_stat(samples), 3))\n",
    "print('Критическая область ({}, +inf)'.format(round(chi2.ppf(1 - alpha, df=len(samples)-1), 3)))\n",
    "print('Отвергаем нулевую гипотезу')"
   ]
  },
  {
   "cell_type": "markdown",
   "metadata": {},
   "source": [
    "### Задача про регби"
   ]
  },
  {
   "cell_type": "code",
   "execution_count": 7,
   "metadata": {},
   "outputs": [
    {
     "data": {
      "text/html": [
       "<div>\n",
       "<style scoped>\n",
       "    .dataframe tbody tr th:only-of-type {\n",
       "        vertical-align: middle;\n",
       "    }\n",
       "\n",
       "    .dataframe tbody tr th {\n",
       "        vertical-align: top;\n",
       "    }\n",
       "\n",
       "    .dataframe thead th {\n",
       "        text-align: right;\n",
       "    }\n",
       "</style>\n",
       "<table border=\"1\" class=\"dataframe\">\n",
       "  <thead>\n",
       "    <tr style=\"text-align: right;\">\n",
       "      <th></th>\n",
       "      <th>Game</th>\n",
       "      <th>Time</th>\n",
       "    </tr>\n",
       "  </thead>\n",
       "  <tbody>\n",
       "    <tr>\n",
       "      <td>0</td>\n",
       "      <td>1</td>\n",
       "      <td>39.2</td>\n",
       "    </tr>\n",
       "    <tr>\n",
       "      <td>1</td>\n",
       "      <td>1</td>\n",
       "      <td>2.7</td>\n",
       "    </tr>\n",
       "    <tr>\n",
       "      <td>2</td>\n",
       "      <td>1</td>\n",
       "      <td>9.2</td>\n",
       "    </tr>\n",
       "    <tr>\n",
       "      <td>3</td>\n",
       "      <td>1</td>\n",
       "      <td>14.6</td>\n",
       "    </tr>\n",
       "    <tr>\n",
       "      <td>4</td>\n",
       "      <td>1</td>\n",
       "      <td>1.9</td>\n",
       "    </tr>\n",
       "  </tbody>\n",
       "</table>\n",
       "</div>"
      ],
      "text/plain": [
       "   Game  Time\n",
       "0     1  39.2\n",
       "1     1   2.7\n",
       "2     1   9.2\n",
       "3     1  14.6\n",
       "4     1   1.9"
      ]
     },
     "execution_count": 7,
     "metadata": {},
     "output_type": "execute_result"
    }
   ],
   "source": [
    "import pandas as pd\n",
    "\n",
    "rugby_data = pd.read_csv('rugby.txt', sep='\\t')\n",
    "rugby_data.head()"
   ]
  },
  {
   "cell_type": "code",
   "execution_count": 8,
   "metadata": {},
   "outputs": [
    {
     "name": "stdout",
     "output_type": "stream",
     "text": [
      "Выборочное значение статистики:  3.887\n",
      "Критическая область (1.89, +inf)\n",
      "Отвергаем нулевую гипотезу\n"
     ]
    }
   ],
   "source": [
    "alpha = 0.05\n",
    "k = len(set(rugby_data.Game.values))\n",
    "N = rugby_data.shape[0]\n",
    "\n",
    "game_list = np.arange(1, 11, 1)\n",
    "samples = [rugby_data.loc[rugby_data.Game == game].Time.values for game in game_list]\n",
    "\n",
    "numerator = calculate_alternative_var(samples)\n",
    "denominator = calculate_var_stat(samples)\n",
    "F_B = numerator / denominator\n",
    "\n",
    "print('Выборочное значение статистики: ', round(F_B, 3))\n",
    "print('Критическая область ({}, +inf)'.format(round(f.ppf(1 - alpha, k-1, N-k), 3)))\n",
    "print('Отвергаем нулевую гипотезу')"
   ]
  },
  {
   "cell_type": "markdown",
   "metadata": {},
   "source": [
    "### Пульс"
   ]
  },
  {
   "cell_type": "markdown",
   "metadata": {},
   "source": [
    "<p>У студентов измерили пульс до и после тренировки. Верно ли, что пульс в среднем увеличился на 50 ударов в минуту?</p>\n",
    "<p>Проверьте данное предположение с помощью доверительных интервалов. Уровень значимости 0.02\n",
    "Постройте приближенный доверительный интервал для a_1-a_2a. Примите статистическое решение</p>"
   ]
  },
  {
   "cell_type": "code",
   "execution_count": 9,
   "metadata": {},
   "outputs": [],
   "source": [
    "from scipy.stats import norm"
   ]
  },
  {
   "cell_type": "code",
   "execution_count": 10,
   "metadata": {},
   "outputs": [
    {
     "data": {
      "text/html": [
       "<div>\n",
       "<style scoped>\n",
       "    .dataframe tbody tr th:only-of-type {\n",
       "        vertical-align: middle;\n",
       "    }\n",
       "\n",
       "    .dataframe tbody tr th {\n",
       "        vertical-align: top;\n",
       "    }\n",
       "\n",
       "    .dataframe thead th {\n",
       "        text-align: right;\n",
       "    }\n",
       "</style>\n",
       "<table border=\"1\" class=\"dataframe\">\n",
       "  <thead>\n",
       "    <tr style=\"text-align: right;\">\n",
       "      <th></th>\n",
       "      <th>Pulse1</th>\n",
       "      <th>Pulse2</th>\n",
       "    </tr>\n",
       "  </thead>\n",
       "  <tbody>\n",
       "    <tr>\n",
       "      <td>0</td>\n",
       "      <td>82</td>\n",
       "      <td>150</td>\n",
       "    </tr>\n",
       "    <tr>\n",
       "      <td>1</td>\n",
       "      <td>96</td>\n",
       "      <td>176</td>\n",
       "    </tr>\n",
       "    <tr>\n",
       "      <td>2</td>\n",
       "      <td>78</td>\n",
       "      <td>141</td>\n",
       "    </tr>\n",
       "    <tr>\n",
       "      <td>3</td>\n",
       "      <td>88</td>\n",
       "      <td>150</td>\n",
       "    </tr>\n",
       "    <tr>\n",
       "      <td>4</td>\n",
       "      <td>76</td>\n",
       "      <td>88</td>\n",
       "    </tr>\n",
       "  </tbody>\n",
       "</table>\n",
       "</div>"
      ],
      "text/plain": [
       "   Pulse1  Pulse2\n",
       "0      82     150\n",
       "1      96     176\n",
       "2      78     141\n",
       "3      88     150\n",
       "4      76      88"
      ]
     },
     "execution_count": 10,
     "metadata": {},
     "output_type": "execute_result"
    }
   ],
   "source": [
    "pulse_data = pd.read_csv('pulse.txt', sep='\\t')\n",
    "pulse_data.head()"
   ]
  },
  {
   "cell_type": "code",
   "execution_count": 11,
   "metadata": {},
   "outputs": [
    {
     "name": "stdout",
     "output_type": "stream",
     "text": [
      "Доверительный интервал:  (-58.625, -44.157)\n"
     ]
    }
   ],
   "source": [
    "a = (pulse_data['Pulse1'] - pulse_data['Pulse2']).values\n",
    "\n",
    "alpha = 0.02\n",
    "\n",
    "lowerbound_a = norm.ppf(alpha / 2) * np.std(a, ddof=1) / len(a) ** (1/2) + np.mean(a)\n",
    "upperbound_a = norm.ppf(1 - alpha / 2) * np.std(a, ddof=1) / len(a) ** (1/2) + np.mean(a)\n",
    "\n",
    "print('Доверительный интервал: ',\n",
    "    (round(lowerbound_a, 3),\n",
    "    round(upperbound_a, 3)))"
   ]
  }
 ],
 "metadata": {
  "kernelspec": {
   "display_name": "Python 3",
   "language": "python",
   "name": "python3"
  },
  "language_info": {
   "codemirror_mode": {
    "name": "ipython",
    "version": 3
   },
   "file_extension": ".py",
   "mimetype": "text/x-python",
   "name": "python",
   "nbconvert_exporter": "python",
   "pygments_lexer": "ipython3",
   "version": "3.7.4"
  }
 },
 "nbformat": 4,
 "nbformat_minor": 2
}
