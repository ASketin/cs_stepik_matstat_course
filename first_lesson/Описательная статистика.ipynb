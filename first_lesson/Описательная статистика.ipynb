{
 "cells": [
  {
   "cell_type": "markdown",
   "metadata": {},
   "source": [
    "## Порядковые статистики"
   ]
  },
  {
   "cell_type": "code",
   "execution_count": 1,
   "metadata": {},
   "outputs": [
    {
     "data": {
      "text/plain": [
       "(0.75, 1.14, 3.02)"
      ]
     },
     "execution_count": 1,
     "metadata": {},
     "output_type": "execute_result"
    }
   ],
   "source": [
    "import numpy as np\n",
    "\n",
    "def return_stats(sample:list) -> tuple:\n",
    "    sorted_sample = sorted(sample)\n",
    "    return sorted_sample[0], sorted_sample[2], sorted_sample[6]\n",
    "\n",
    "return_stats([1.4, 3.02, 3.71, 1.14, 1.66, 0.75, 2.85, 1.07])"
   ]
  },
  {
   "cell_type": "markdown",
   "metadata": {},
   "source": [
    "## Группированные статистические ряды. Гистограммы"
   ]
  },
  {
   "cell_type": "code",
   "execution_count": 2,
   "metadata": {},
   "outputs": [
    {
     "data": {
      "text/plain": [
       "[((15.75, 16.5), 0.075),\n",
       " ((16.5, 17.25), 0.075),\n",
       " ((17.25, 18.0), 0.325),\n",
       " ((18.0, 18.75), 0.25),\n",
       " ((18.75, 19.5), 0.2),\n",
       " ((19.5, 20.25), 0.075)]"
      ]
     },
     "execution_count": 2,
     "metadata": {},
     "output_type": "execute_result"
    }
   ],
   "source": [
    "from bisect import bisect_left\n",
    "from collections import defaultdict\n",
    "\n",
    "def return_hist_freq(elements:list, start:int, stop:int, bins: int) -> dict:\n",
    "    base_intervals = np.linspace(start, stop, bins)\n",
    "    delta = (stop - start) / (bins - 1)\n",
    "    result_dict = defaultdict(int)\n",
    "    \n",
    "    for elmnt in elements:\n",
    "        \n",
    "        boundaries = {\n",
    "            start: (start, start + delta),\n",
    "            stop: (stop - delta, stop)\n",
    "        }\n",
    "        \n",
    "        if (elmnt > stop) | (elmnt < start):\n",
    "            continue\n",
    "        \n",
    "        if elmnt in boundaries:\n",
    "            result_dict[boundaries[elmnt]] += 1\n",
    "            continue\n",
    "        \n",
    "        else:\n",
    "            index = bisect_left(base_intervals, elmnt)\n",
    "            interval = (base_intervals[index-1], base_intervals[index])\n",
    "            result_dict[interval] += 1\n",
    "    \n",
    "    return sorted({key: value / len(elements) for key, value in result_dict.items()}.items())\n",
    "\n",
    "\n",
    "input_list = [18.05, 18.98, 17.6, 16.25, 17.38, 17.38, 17.28, 19.19, 18.01, 16.79, 18.8, 18.45, 19.58, 17.4, \n",
    "              17.99, 18.46, 19.23, 15.92, 18.27, 16.7, 18.49, 19.72, 17.99, 19.33, 17.99, 17.69, 17.71, \n",
    "              19.24, 17.53, 19.45, 18.16, 17.87, 18.25, 18.7, 18.83, 19.65, 17.01, 17.5, 18.48, 16.17]\n",
    "\n",
    "return_hist_freq(elements=input_list, start=15, stop=21, bins=9)"
   ]
  },
  {
   "cell_type": "markdown",
   "metadata": {},
   "source": [
    "## Выборочные характеристики"
   ]
  },
  {
   "cell_type": "markdown",
   "metadata": {},
   "source": [
    "Какая будет средняя дневная температура июля в Санкт-Петербурге в этом году? Давайте попробуем ответить на этот вопрос на основе исторических данных.  Ниже приводится средняя дневная температура июля в Санкт-Петербурге за 2002-2015 года:\n",
    "    * 23, 24, 21, 23, 22, 21, 20, 21, 28, 25, 22, 22, 25, 21\n",
    "\n",
    "Ответить на поставленный вопрос вам помогут следующие выборочные характеристики:\n",
    "<li> выборочное среднее,\n",
    "<li> выборочная дисперсия,\n",
    "<li> выборочная медиана,\n",
    "<li> первый квартиль,\n",
    "<li> третий квартиль"
   ]
  },
  {
   "cell_type": "code",
   "execution_count": 3,
   "metadata": {},
   "outputs": [
    {
     "name": "stdout",
     "output_type": "stream",
     "text": [
      "Выборочное среднее:  22.71\n",
      "Выборочная дисперсия:  4.35\n",
      "Выборочная медиана:  22\n",
      "Первый квартиль:  21\n",
      "Третий квартиль:  24\n"
     ]
    }
   ],
   "source": [
    "from math import ceil, floor\n",
    "\n",
    "input_data = [23, 24, 21, 23, 22, 21, 20, 21, 28, 25, 22, 22, 25, 21]\n",
    "\n",
    "n = len(input_data)\n",
    "variation_range = sorted(input_data)\n",
    "\n",
    "x_mean = sum(input_data) / n\n",
    "x_std = sum([(elmnt - x_mean) ** 2 for elmnt in input_data]) / n\n",
    "x_med = (variation_range[n//2] + variation_range[n//2+1]) / 2 if n // 2 == 0 else variation_range[(n-1)//2]\n",
    "Q_25 = variation_range[floor(n * 0.25)]\n",
    "Q_75 = variation_range[floor(n * 0.75)]\n",
    "\n",
    "print('Выборочное среднее: ', round(x_mean, 2))\n",
    "print('Выборочная дисперсия: ', round(x_std, 2))\n",
    "print('Выборочная медиана: ', x_med)\n",
    "print('Первый квартиль: ', Q_25)\n",
    "print('Третий квартиль: ', Q_75)"
   ]
  },
  {
   "cell_type": "markdown",
   "metadata": {},
   "source": [
    "### Коэффициент корреляции"
   ]
  },
  {
   "cell_type": "markdown",
   "metadata": {},
   "source": [
    "Найдите выборочный коэффициент корреляции между ростом и весом по данным  измерений роста и веса 10 мужчин. (Единицы измерений рост - см, вес - кг)  "
   ]
  },
  {
   "cell_type": "code",
   "execution_count": 5,
   "metadata": {},
   "outputs": [
    {
     "name": "stdout",
     "output_type": "stream",
     "text": [
      "Коэффциент корреляции:  0.86\n"
     ]
    }
   ],
   "source": [
    "def correl_coef(X:list, Y:list) -> float:\n",
    "    return (sum(X * Y) / len(X) - np.mean(X) * np.mean(Y)) / (np.std(X) * np.std(Y))\n",
    "\n",
    "input_data = [(170, 66), (182, 74),  (183, 77),  (180, 72), (175, 67), (181, 77), (187, 76), (181, 77), (178, 72), (187, 76)]\n",
    "height = np.array([data[0] for data in input_data])\n",
    "weight = np.array([data[1] for data in input_data])\n",
    "\n",
    "print('Коэффциент корреляции: ', round(correl_coef(X=height, Y=weight), 2))"
   ]
  },
  {
   "cell_type": "markdown",
   "metadata": {},
   "source": [
    "## 13-е число - неудачный день"
   ]
  },
  {
   "cell_type": "code",
   "execution_count": 6,
   "metadata": {},
   "outputs": [],
   "source": [
    "import pandas as pd"
   ]
  },
  {
   "cell_type": "code",
   "execution_count": 7,
   "metadata": {},
   "outputs": [],
   "source": [
    "input_data = pd.read_csv('13_6', sep='\\t', header=None,\n",
    "                         names=['type', 'date', 'Friday_6th_amnt', 'Friday_13th_amnt', 'supermarket'])"
   ]
  },
  {
   "cell_type": "code",
   "execution_count": 8,
   "metadata": {},
   "outputs": [],
   "source": [
    "def return_stats(input_data:list) -> tuple:\n",
    "\n",
    "    n = len(input_data)\n",
    "    variation_range = sorted(input_data)\n",
    "    \n",
    "    x_mean = sum(input_data) / n\n",
    "    x_std = sum([(elmnt - x_mean) ** 2 for elmnt in input_data]) / n\n",
    "    x_med = (variation_range[n//2] + variation_range[n//2+1]) / 2 if n // 2 == 0 else variation_range[(n-1)//2]\n",
    "    \n",
    "    return x_mean, x_std, x_med\n",
    "\n",
    "def return_central_moment(input_data:list, order:int) -> float:\n",
    "    mu_i = sum([(elmnt - input_data.mean()) ** order for elmnt in input_data]) / len(input_data)\n",
    "    \n",
    "    return mu_i"
   ]
  },
  {
   "cell_type": "code",
   "execution_count": 9,
   "metadata": {},
   "outputs": [
    {
     "name": "stdout",
     "output_type": "stream",
     "text": [
      "Объем выборки:  45\n",
      "Выборочное среднее:  5017.0\n",
      "Выборочная дисперсия:  1345096.1\n",
      "Выборочная медиана:  4736\n"
     ]
    }
   ],
   "source": [
    "x_mean, x_std, x_med = return_stats(input_data['Friday_13th_amnt'].values)\n",
    "\n",
    "print('Объем выборки: ', input_data.shape[0])\n",
    "print('Выборочное среднее: ', round(x_mean, 1))\n",
    "print('Выборочная дисперсия: ', round(x_std, 1))\n",
    "print('Выборочная медиана: ', x_med)"
   ]
  },
  {
   "cell_type": "markdown",
   "metadata": {},
   "source": [
    "<p>Коэффициент ассиметрии:\n",
    "<li> Неформально говоря, коэффициент асимметрии положителен, если правый хвост распределения длиннее левого, и отрицателен в противном случае.\n",
    "<li> Если распределение симметрично относительно математического ожидания, то его коэффициент асимметрии равен нулю.\n",
    "<br>\n",
    "<br>\n",
    "<p> Коэффициент эксцесса:\n",
    "<li> Нормальное распределение имеет нулевой эксцесс\n",
    "<li> Если хвосты распределения «легче», а пик острее, чем у нормального распределения, то коэффициент положителен\n",
    "<li> Если хвосты распределения «тяжелее», а пик более «приплюснутый», чем у нормального распределения, то коэффициент отрицательный"
   ]
  },
  {
   "cell_type": "code",
   "execution_count": 10,
   "metadata": {},
   "outputs": [
    {
     "name": "stdout",
     "output_type": "stream",
     "text": [
      "Выборочное среднее:  46.49\n",
      "Коэффициент асимметрии:  1.47\n",
      "Коэффициент эксцесса:  4.96\n"
     ]
    }
   ],
   "source": [
    "input_data['difference'] = input_data['Friday_13th_amnt'] - input_data['Friday_6th_amnt']\n",
    "\n",
    "asymmetric_coef = return_central_moment(input_data['difference'], 3) \\\n",
    "                  / (return_central_moment(input_data['difference'], 2) ** (3/2))\n",
    "\n",
    "curtosis = return_central_moment(input_data['difference'], 4) \\\n",
    "                 / (return_central_moment(input_data['difference'], 2) ** 2) - 3\n",
    "\n",
    "print('Выборочное среднее: ', round(input_data['difference'].mean(), 2))\n",
    "print('Коэффициент асимметрии: ', round(asymmetric_coef, 2))\n",
    "print('Коэффициент эксцесса: ', round(curtosis, 2))"
   ]
  },
  {
   "cell_type": "markdown",
   "metadata": {},
   "source": [
    "### Построим ящик с усами для признаков и гистограммы"
   ]
  },
  {
   "cell_type": "code",
   "execution_count": 11,
   "metadata": {},
   "outputs": [
    {
     "name": "stdout",
     "output_type": "stream",
     "text": [
      "Populating the interactive namespace from numpy and matplotlib\n"
     ]
    },
    {
     "name": "stderr",
     "output_type": "stream",
     "text": [
      "C:\\ProgramData\\Anaconda3\\lib\\site-packages\\IPython\\core\\magics\\pylab.py:160: UserWarning: pylab import has clobbered these variables: ['ceil', 'floor']\n",
      "`%matplotlib` prevents importing * from pylab and numpy\n",
      "  \"\\n`%matplotlib` prevents importing * from pylab and numpy\"\n"
     ]
    }
   ],
   "source": [
    "import seaborn as sns\n",
    "%pylab inline"
   ]
  },
  {
   "cell_type": "code",
   "execution_count": 12,
   "metadata": {},
   "outputs": [
    {
     "data": {
      "image/png": "[encoded data removed]",
      "text/plain": [
       "<Figure size 720x576 with 1 Axes>"
      ]
     },
     "metadata": {
      "needs_background": "light"
     },
     "output_type": "display_data"
    }
   ],
   "source": [
    "my_dict = {'13th': input_data['Friday_13th_amnt'].values,\n",
    "           '6th': input_data['Friday_6th_amnt'].values,\n",
    "          'diff': input_data['difference'].values,\n",
    "          }\n",
    "\n",
    "fig, ax = plt.subplots(figsize=(10, 8))\n",
    "ax.boxplot(my_dict.values())\n",
    "ax.set_xticklabels(my_dict.keys())\n",
    "plt.title('Box-plot количества посетителей')\n",
    "plt.show()"
   ]
  },
  {
   "cell_type": "code",
   "execution_count": 13,
   "metadata": {},
   "outputs": [
    {
     "data": {
      "image/png": "[encoded data removed]",
      "text/plain": [
       "<Figure size 1152x432 with 3 Axes>"
      ]
     },
     "metadata": {
      "needs_background": "light"
     },
     "output_type": "display_data"
    }
   ],
   "source": [
    "# Эмпирическое правило Стерждеса\n",
    "n_bins = int(1 + floor(3.332 * np.log(input_data.shape[0])))\n",
    "\n",
    "fig, ax = plt.subplots(1, 3, figsize=(16, 6))\n",
    "ax[0].hist(input_data['Friday_13th_amnt'], bins=n_bins, edgecolor='black')\n",
    "ax[0].set_title('Гистограмма покупателей 13го числа')\n",
    "ax[1].hist(input_data['Friday_6th_amnt'], bins=n_bins, edgecolor='black')\n",
    "ax[1].set_title('Гистограмма покупателей 6го числа')\n",
    "ax[2].hist(input_data['difference'], bins=n_bins, edgecolor='black')\n",
    "ax[2].set_title('Гистограмма разницы покупателей 13го и 6го числа')\n",
    "plt.show()"
   ]
  },
  {
   "cell_type": "markdown",
   "metadata": {},
   "source": [
    "## Сравнение колледжей"
   ]
  },
  {
   "cell_type": "code",
   "execution_count": 14,
   "metadata": {},
   "outputs": [
    {
     "data": {
      "text/html": [
       "<div>\n",
       "<style scoped>\n",
       "    .dataframe tbody tr th:only-of-type {\n",
       "        vertical-align: middle;\n",
       "    }\n",
       "\n",
       "    .dataframe tbody tr th {\n",
       "        vertical-align: top;\n",
       "    }\n",
       "\n",
       "    .dataframe thead th {\n",
       "        text-align: right;\n",
       "    }\n",
       "</style>\n",
       "<table border=\"1\" class=\"dataframe\">\n",
       "  <thead>\n",
       "    <tr style=\"text-align: right;\">\n",
       "      <th></th>\n",
       "      <th>School</th>\n",
       "      <th>School_Type</th>\n",
       "      <th>SAT</th>\n",
       "      <th>Acceptance</th>\n",
       "      <th>$/Student</th>\n",
       "      <th>Top 10%</th>\n",
       "      <th>%PhD</th>\n",
       "      <th>Grad%</th>\n",
       "    </tr>\n",
       "  </thead>\n",
       "  <tbody>\n",
       "    <tr>\n",
       "      <td>0</td>\n",
       "      <td>Amherst</td>\n",
       "      <td>Lib Arts</td>\n",
       "      <td>1315</td>\n",
       "      <td>22</td>\n",
       "      <td>26636</td>\n",
       "      <td>85</td>\n",
       "      <td>81</td>\n",
       "      <td>93</td>\n",
       "    </tr>\n",
       "    <tr>\n",
       "      <td>1</td>\n",
       "      <td>Swarthmore</td>\n",
       "      <td>Lib Arts</td>\n",
       "      <td>1310</td>\n",
       "      <td>24</td>\n",
       "      <td>27487</td>\n",
       "      <td>78</td>\n",
       "      <td>93</td>\n",
       "      <td>88</td>\n",
       "    </tr>\n",
       "    <tr>\n",
       "      <td>2</td>\n",
       "      <td>Williams</td>\n",
       "      <td>Lib Arts</td>\n",
       "      <td>1336</td>\n",
       "      <td>28</td>\n",
       "      <td>23772</td>\n",
       "      <td>86</td>\n",
       "      <td>90</td>\n",
       "      <td>93</td>\n",
       "    </tr>\n",
       "    <tr>\n",
       "      <td>3</td>\n",
       "      <td>Bowdoin</td>\n",
       "      <td>Lib Arts</td>\n",
       "      <td>1300</td>\n",
       "      <td>24</td>\n",
       "      <td>25703</td>\n",
       "      <td>78</td>\n",
       "      <td>95</td>\n",
       "      <td>90</td>\n",
       "    </tr>\n",
       "    <tr>\n",
       "      <td>4</td>\n",
       "      <td>Wellesley</td>\n",
       "      <td>Lib Arts</td>\n",
       "      <td>1250</td>\n",
       "      <td>49</td>\n",
       "      <td>27879</td>\n",
       "      <td>76</td>\n",
       "      <td>91</td>\n",
       "      <td>86</td>\n",
       "    </tr>\n",
       "  </tbody>\n",
       "</table>\n",
       "</div>"
      ],
      "text/plain": [
       "       School School_Type   SAT  Acceptance  $/Student  Top 10%  %PhD  Grad%\n",
       "0     Amherst    Lib Arts  1315          22      26636       85    81     93\n",
       "1  Swarthmore    Lib Arts  1310          24      27487       78    93     88\n",
       "2    Williams    Lib Arts  1336          28      23772       86    90     93\n",
       "3     Bowdoin    Lib Arts  1300          24      25703       78    95     90\n",
       "4   Wellesley    Lib Arts  1250          49      27879       76    91     86"
      ]
     },
     "execution_count": 14,
     "metadata": {},
     "output_type": "execute_result"
    }
   ],
   "source": [
    "college_data = pd.read_csv('colleges.txt', sep='\\t')\n",
    "college_data.head()"
   ]
  },
  {
   "cell_type": "markdown",
   "metadata": {},
   "source": [
    "Формат файла\n",
    "<li> School -  название школы\n",
    "<li> School_Type - тип школы (школа искусств  'LibArts', исследовательский университет 'Univ')\n",
    "<li> SAT - медиана объединенных значений Math и Verbal SAT  студентов\n",
    "<li> Acceptance: - % принятых абитуриентов\n",
    "<li> $/Student  -  Деньги, расходуемые на одного студента в среднем\n",
    "<li> Top 10% -  % студентов в топ 10% выпускных классов\n",
    "<li> %PhD -  %  факультетов, имеющих PhD\n",
    "<li> Grad%: % студентов, которые успешно завершили обучение"
   ]
  },
  {
   "cell_type": "code",
   "execution_count": 15,
   "metadata": {},
   "outputs": [],
   "source": [
    "art_faculty = college_data.loc[college_data['School_Type'] == 'Lib Arts'].copy()\n",
    "university = college_data.loc[college_data['School_Type'] == 'Univ'].copy()"
   ]
  },
  {
   "cell_type": "code",
   "execution_count": 16,
   "metadata": {},
   "outputs": [
    {
     "data": {
      "image/png": "[encoded data removed]",
      "text/plain": [
       "<Figure size 1152x576 with 6 Axes>"
      ]
     },
     "metadata": {
      "needs_background": "light"
     },
     "output_type": "display_data"
    }
   ],
   "source": [
    "\n",
    "fig, ax = plt.subplots(2, 3, figsize=(16, 8))\n",
    "ax[0][0].boxplot([art_faculty['SAT'].values, university['SAT'].values])\n",
    "ax[0][0].set_xticklabels(['art_college', 'university'])\n",
    "ax[0][0].set_title('Box-plot для SAT по типам колледжей')\n",
    "\n",
    "ax[0][1].boxplot([art_faculty['Acceptance'].values, university['Acceptance'].values])\n",
    "ax[0][1].set_xticklabels(['art_college', 'university'])\n",
    "ax[0][1].set_title('Box-plot для Acceptance по типам колледжей')\n",
    "\n",
    "ax[0][2].boxplot([art_faculty['$/Student'].values, university['$/Student'].values])\n",
    "ax[0][2].set_xticklabels(['art_college', 'university'])\n",
    "ax[0][2].set_title('Box-plot для стоимости обучения по типам колледжей')\n",
    "\n",
    "ax[1][0].boxplot([art_faculty['Top 10%'].values, university['Top 10%'].values])\n",
    "ax[1][0].set_xticklabels(['art_college', 'university'])\n",
    "ax[1][0].set_title('Box-plot для Top 10% по типам колледжей')\n",
    "\n",
    "ax[1][1].boxplot([art_faculty['%PhD'].values, university['%PhD'].values])\n",
    "ax[1][1].set_xticklabels(['art_college', 'university'])\n",
    "ax[1][1].set_title('Box-plot для %PhD по типам колледжей')\n",
    "\n",
    "ax[1][2].boxplot([art_faculty['Grad%'].values, university['Grad%'].values])\n",
    "ax[1][2].set_xticklabels(['art_college', 'university'])\n",
    "ax[1][2].set_title('Box-plot для Grad% по типам колледжей')\n",
    "\n",
    "plt.show()"
   ]
  },
  {
   "cell_type": "code",
   "execution_count": 17,
   "metadata": {},
   "outputs": [
    {
     "data": {
      "image/png": "[encoded data removed]",
      "text/plain": [
       "<Figure size 1152x576 with 6 Axes>"
      ]
     },
     "metadata": {
      "needs_background": "light"
     },
     "output_type": "display_data"
    }
   ],
   "source": [
    "fig, ax = plt.subplots(2, 3, figsize=(16, 8))\n",
    "ax[0][0].hist([art_faculty['SAT'].values, university['SAT'].values])\n",
    "ax[0][0].legend(['art', 'university'])\n",
    "ax[0][0].set_title('Гистограммы для SAT по типам колледжей')\n",
    "\n",
    "ax[0][1].hist([art_faculty['Acceptance'].values, university['Acceptance'].values])\n",
    "ax[0][1].legend(['art', 'university'])\n",
    "ax[0][1].set_title('Гистограммы для Acceptance по типам колледжей')\n",
    "\n",
    "ax[0][2].hist([art_faculty['$/Student'].values, university['$/Student'].values])\n",
    "ax[0][2].legend(['art', 'university'])\n",
    "ax[0][2].set_title('Гистограммы для стоимости обучения')\n",
    "\n",
    "ax[1][0].hist([art_faculty['Top 10%'].values, university['Top 10%'].values])\n",
    "ax[1][0].legend(['art', 'university'])\n",
    "ax[1][0].set_title('Гистограммы для Top 10% по типам колледжей')\n",
    "\n",
    "ax[1][1].hist([art_faculty['%PhD'].values, university['%PhD'].values])\n",
    "ax[1][1].legend(['art', 'university'])\n",
    "ax[1][1].set_title('Гистограммы для %PhD по типам колледжей')\n",
    "\n",
    "ax[1][2].hist([art_faculty['Grad%'].values, university['Grad%'].values])\n",
    "ax[1][2].legend(['art', 'university'])\n",
    "ax[1][2].set_title('Гистограммы для Grad% по типам колледжей')\n",
    "\n",
    "plt.show()"
   ]
  },
  {
   "cell_type": "code",
   "execution_count": 18,
   "metadata": {},
   "outputs": [
    {
     "name": "stdout",
     "output_type": "stream",
     "text": [
      "Выборочное среднее SAT школ искусств:  1256.64\n",
      "3й выборочный квартиль Acceptance университетов:  45\n",
      "Название института(колледжа), в котором тратят денег в среднем на одного студента больше, чем в других институтах(колледжах):  Cal Tech\n"
     ]
    }
   ],
   "source": [
    "accept_univ = sorted(university['Acceptance'].values)\n",
    "Q3 = accept_univ[int(floor(len(accept_univ) * 0.75))]\n",
    "\n",
    "\n",
    "print('Выборочное среднее SAT школ искусств: ', art_faculty['SAT'].mean())\n",
    "print('3й выборочный квартиль Acceptance университетов: ', Q3)\n",
    "print('Название института(колледжа), в котором тратят денег в среднем на одного \\\n",
    "студента больше, чем в других институтах(колледжах): ',\n",
    "      university.loc[university['$/Student'] == university['$/Student'].max()]['School'].values[0])"
   ]
  }
 ],
 "metadata": {
  "kernelspec": {
   "display_name": "Python 3",
   "language": "python",
   "name": "python3"
  },
  "language_info": {
   "codemirror_mode": {
    "name": "ipython",
    "version": 3
   },
   "file_extension": ".py",
   "mimetype": "text/x-python",
   "name": "python",
   "nbconvert_exporter": "python",
   "pygments_lexer": "ipython3",
   "version": "3.7.4"
  }
 },
 "nbformat": 4,
 "nbformat_minor": 2
}
