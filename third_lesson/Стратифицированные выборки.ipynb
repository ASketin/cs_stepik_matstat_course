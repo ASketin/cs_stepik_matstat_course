{
 "cells": [
  {
   "cell_type": "markdown",
   "metadata": {},
   "source": [
    "### Стратифицированные выборки"
   ]
  },
  {
   "cell_type": "markdown",
   "metadata": {},
   "source": [
    "Предположим, что необходимо оценить число свободных мест в больницах. Все больницы разбили на 2 страты по числу коек-мест. Доля страты 1 составила 40%, страты 2 - 60%.\n",
    "\n",
    "Из каждой страты были получены выборки числа свободных мест объемом 10 каждая:\n",
    "\n",
    "<li> страта 1: 282, 226, 188, 327, 344, 304, 414, 224, 335, 270\n",
    "<li> страта 2: 417,  851,  742, 1217, 1160,  993,  864,  852, 1286,  988\n",
    "<br>\n",
    "<p>Найдите оценку среднего числа свободных мест в больницах, а также оценку дисперсии числа свободных мест\n",
    "\n"
   ]
  },
  {
   "cell_type": "markdown",
   "metadata": {},
   "source": [
    "<h4>Оценка среднего числа свободных мест</h4>\n",
    "<p> $\\large E\\overline{X}=\\sum ^{ℓ}_{k=1}W_{k}EX_{k}$\n",
    "<br>\n",
    "<h4>Оценка дисперсии числа свободных мест</h4>\n",
    "<p> $\\large D^{\\ast }=\\sum ^{l}_{k=1}W_{k}D_{k}^{\\ast }+\\sum ^{l}_{k=1}W_{k}\\left( \\sum ^{l}_{i=1}W_{i}X_{i}-\\overline{X}_{k}\\right) ^{2}$\n",
    "    "
   ]
  },
  {
   "cell_type": "code",
   "execution_count": 1,
   "metadata": {},
   "outputs": [
    {
     "name": "stdout",
     "output_type": "stream",
     "text": [
      "Оценка среднего числа свободных мест:  678.76\n",
      "Оценка дисперсии числа свободных мест:  136721.6624\n",
      "Выборочное среднее выборки (без стратификации):  614.2\n",
      "Выборочная дисперсия (без стратификации):  135461.06\n"
     ]
    }
   ],
   "source": [
    "import numpy as np\n",
    "\n",
    "weights_vector = [0.4, 0.6]\n",
    "first_sample = [282, 226, 188, 327, 344, 304, 414, 224, 335, 270]\n",
    "second_sample = [417, 851, 742, 1217, 1160, 993, 864, 852, 1286, 988]\n",
    "\n",
    "stratified_sample = [first_sample, second_sample]\n",
    "\n",
    "def evaluate_mean(weights: list, stratified_sample: list) -> float:\n",
    "    xk_exp = [np.mean(sample) for sample in stratified_sample]\n",
    "    sum_parts = [w_k * exp_x_k for w_k, exp_x_k in zip(weights, xk_exp)]\n",
    "    \n",
    "    return sum(sum_parts)\n",
    "\n",
    "def evaluate_variance(weights: list, stratified_sample: list) -> float:\n",
    "    weighted_variance = [W_k * np.std(X_k, ddof=0) ** 2 for W_k, X_k in zip(weights, stratified_sample)]\n",
    "    stratified_mean = evaluate_mean(weights=weights_vector, stratified_sample=stratified_sample)\n",
    "    weighted_mean_diff = [W_k * (stratified_mean - np.mean(X_k)) ** 2 for W_k, X_k in zip(weights, stratified_sample)]\n",
    "    \n",
    "    return sum(weighted_variance) + sum(weighted_mean_diff)\n",
    "\n",
    "print('Оценка среднего числа свободных мест: ', evaluate_mean(weights=weights_vector, stratified_sample=stratified_sample))\n",
    "print('Оценка дисперсии числа свободных мест: ', evaluate_variance(weights=weights_vector, stratified_sample=stratified_sample))\n",
    "\n",
    "result = [282, 226, 188, 327, 344, 304, 414, 224, 335, 270, 417, 851, 742, 1217, 1160, 993, 864, 852, 1286, 988]\n",
    "print('Выборочное среднее выборки (без стратификации): ', np.mean(result))\n",
    "print('Выборочная дисперсия (без стратификации): ',np.var(result, ddof=0))"
   ]
  },
  {
   "cell_type": "markdown",
   "metadata": {},
   "source": [
    "### Объем страт"
   ]
  },
  {
   "cell_type": "markdown",
   "metadata": {},
   "source": [
    "Генеральная совокупность представляет собой смесь двух распределений: \n",
    "<li> первое составляет 25% исходной генеральной совокупности, имеет дисперсию 4, второе - 75%,  дисперсию 6.25. \n",
    "<br>\n",
    "<p>Какими следует выбрать объемы выборок из данных страт так, чтобы оценка мат.ожидания исходной генеральной совокупности имела наименьшую дисперсию, если общий объем выборки должен равняться 100?"
   ]
  },
  {
   "cell_type": "markdown",
   "metadata": {},
   "source": [
    "<h4>Оптимальное сэмплирование Нейэмана</h4>\n",
    "<p>$\\large n_{k}=n\\dfrac{W_{k}\\sigma _{k}}{\\sum ^{L}_{k=1} {W_k\\sigma _{k}}}$"
   ]
  },
  {
   "cell_type": "code",
   "execution_count": 2,
   "metadata": {},
   "outputs": [
    {
     "name": "stdout",
     "output_type": "stream",
     "text": [
      "Оптимальные объемы разбиения:  [21, 79]\n"
     ]
    }
   ],
   "source": [
    "def return_opt_length(weights: list, std_list: list, size: int) -> int:\n",
    "    parts = [W_k * sigma_k for W_k, sigma_k in zip(weights, std_list)]\n",
    "    n_list = [round(size * k_sample / sum(parts)) for k_sample in parts]\n",
    "    \n",
    "    return n_list\n",
    "\n",
    "print('Оптимальные объемы разбиения: ', return_opt_length(weights=[0.25, 0.75], std_list=[2, 2.5], size=100))"
   ]
  },
  {
   "cell_type": "code",
   "execution_count": 3,
   "metadata": {},
   "outputs": [
    {
     "data": {
      "text/plain": [
       "(9.713865, 10.886135000000001)"
      ]
     },
     "execution_count": 3,
     "metadata": {},
     "output_type": "execute_result"
    }
   ],
   "source": [
    "10.3 - ((1.21) ** (1/2))/4 * 2.1314, 10.3 + ((1.21) ** (1/2))/4 * 2.1314"
   ]
  },
  {
   "cell_type": "markdown",
   "metadata": {},
   "source": [
    "### Доверительные интервалы"
   ]
  },
  {
   "cell_type": "markdown",
   "metadata": {},
   "source": [
    "Постройте 95%-доверительный интервал для дисперсии $\\sigma^2$ ошибок измерений, если  предполагается, что ошибки измерений подчиняются нормальному закону с мат.ожиданием $a=0$ и неизвестной дисперсией $\\sigma^2$ "
   ]
  },
  {
   "cell_type": "code",
   "execution_count": 4,
   "metadata": {},
   "outputs": [
    {
     "name": "stdout",
     "output_type": "stream",
     "text": [
      "95% доверительный интервал для дисперсии при известном среднем:  (0.977, 3.48)\n"
     ]
    }
   ],
   "source": [
    "def return_interval(input_data: list, mu:float, gamma: float) -> tuple:\n",
    "    from scipy.stats.distributions import chi2\n",
    "    \n",
    "    alpha = 1 - gamma\n",
    "    numerator = sum([(x_i - mu) ** 2 for x_i in input_data])\n",
    "    return (round(numerator / chi2.ppf(1 - alpha / 2, df=len(input_data)), 3),\n",
    "            round(numerator / chi2.ppf(alpha / 2, df=len(input_data)), 3))\n",
    "\n",
    "input_data = [0.47, 0.13, -0.98, 0.74, -2.11, -3.36, -0.35, -2.21, 1.14,\n",
    "              -0.13, 1.12, 1.49, 0.77, 0.79, 1.13, -1.45, 0.92, -0.08,\n",
    "              0.62, -0.51]\n",
    "\n",
    "print('95% доверительный интервал для дисперсии при известном среднем: ',\n",
    "      return_interval(input_data=input_data, mu=0, gamma=0.95))"
   ]
  },
  {
   "cell_type": "markdown",
   "metadata": {},
   "source": [
    "<h4>Вторая задача</h4>\n",
    "<p>Большая партия изделий может содержать некоторую долю дефектных. Поставщик утверждает, что эта доля составляет 5%, покупатель  предполагает, что доля дефектных изделий равна 10%.\n",
    "\n",
    "По предложенной выборке постройте 95%-й приближенный доверительный интервал  для доли брака в партии  и ответьте на вопрос:\n",
    "<li> с большей степенью уверенности можно утверждать, что доля брака  в партии больше 5%?"
   ]
  },
  {
   "cell_type": "code",
   "execution_count": 5,
   "metadata": {},
   "outputs": [
    {
     "name": "stdout",
     "output_type": "stream",
     "text": [
      "Асимптотический 95% доверительный интервал для доли брака в партии:  (0.0073, 0.0927)\n"
     ]
    }
   ],
   "source": [
    "def return_asympt_interval(input_data: list, gamma: float) -> tuple:\n",
    "    from scipy.stats.distributions import norm\n",
    "    \n",
    "    n = len(input_data)\n",
    "    p_star = sum(input_data) / n\n",
    "    alpha = (1 - gamma)\n",
    "    variance = (p_star * (1 - p_star)) ** (1 / 2)\n",
    "    return (\n",
    "        round(p_star - norm.ppf(1 - alpha / 2) * variance / (n ** (1 / 2)), 4),\n",
    "        round(p_star + norm.ppf(1 - alpha / 2) * variance / (n ** (1 / 2)), 4)\n",
    "    )\n",
    "\n",
    "input_data = [0, 0, 0, 0, 0, 0, 0, 0, 0, 0, 0, 0, 0, 0, 0, 0, 1, 0, 1, 1, 0, 0, 0, 0, 0,\n",
    "              0, 0, 0, 0, 0, 0, 0, 0, 0, 0, 0, 0, 0, 0, 0, 0, 0, 0, 0, 0, 0, 0, 0, 0, 0,\n",
    "              1, 0, 0, 0, 1, 0, 0, 0, 0, 0, 0, 0, 0, 0, 0, 0, 0, 0, 0, 0, 0, 0, 0, 0, 0,\n",
    "              0, 0, 0, 0, 0, 0, 0, 0, 0, 0, 0, 0, 0, 0, 0, 0, 0, 0, 0, 0, 0, 0, 0, 0, 0]\n",
    "\n",
    "print('Асимптотический 95% доверительный интервал для доли брака в партии: ',\n",
    "      return_asympt_interval(input_data=input_data, gamma=0.95))"
   ]
  }
 ],
 "metadata": {
  "kernelspec": {
   "display_name": "Python 3",
   "language": "python",
   "name": "python3"
  },
  "language_info": {
   "codemirror_mode": {
    "name": "ipython",
    "version": 3
   },
   "file_extension": ".py",
   "mimetype": "text/x-python",
   "name": "python",
   "nbconvert_exporter": "python",
   "pygments_lexer": "ipython3",
   "version": "3.7.4"
  }
 },
 "nbformat": 4,
 "nbformat_minor": 2
}
